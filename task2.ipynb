{
 "cells": [
  {
   "cell_type": "markdown",
   "id": "39d16d0d-4d88-4922-bb92-6cc87f0566ea",
   "metadata": {},
   "source": [
    "# Qn 2"
   ]
  },
  {
   "cell_type": "code",
   "execution_count": 1,
   "id": "c6569587-d02d-4f94-9539-03abb5190ea3",
   "metadata": {},
   "outputs": [
    {
     "data": {
      "text/plain": [
       "[1, 3, 5, 7, 9]"
      ]
     },
     "execution_count": 1,
     "metadata": {},
     "output_type": "execute_result"
    }
   ],
   "source": [
    "# to check the odd numbers\n",
    "l=[1,2,3,4,5,6,7,8,9,10]\n",
    "list(filter(lambda x:x%2==1,l))\n"
   ]
  },
  {
   "cell_type": "code",
   "execution_count": 1,
   "id": "3a5a6cf6-4f1a-4189-ac7b-69089000058d",
   "metadata": {},
   "outputs": [
    {
     "data": {
      "text/plain": [
       "[1, 2, 3, 4, 5, 6]"
      ]
     },
     "execution_count": 1,
     "metadata": {},
     "output_type": "execute_result"
    }
   ],
   "source": [
    "# Sort a list of integers into positive and negative integers lists.\n",
    "l=[1,2,3,4,5,6,-1,-2,-3,-4,-5,0]\n",
    "list(filter(lambda x:x>0,l))"
   ]
  },
  {
   "cell_type": "code",
   "execution_count": 2,
   "id": "c072c8a0-d9e6-4e1c-b9cc-d2c6158edaaa",
   "metadata": {},
   "outputs": [
    {
     "data": {
      "text/plain": [
       "[-1, -2, -3, -4, -5]"
      ]
     },
     "execution_count": 2,
     "metadata": {},
     "output_type": "execute_result"
    }
   ],
   "source": [
    "list(filter(lambda x:x<0,l))"
   ]
  },
  {
   "cell_type": "code",
   "execution_count": 6,
   "id": "8e65eaec-b1cb-475c-953e-523afccdba7a",
   "metadata": {},
   "outputs": [
    {
     "data": {
      "text/plain": [
       "[1, 8, 27, 64, 125, 216, 343, 512, 729, 1000]"
      ]
     },
     "execution_count": 6,
     "metadata": {},
     "output_type": "execute_result"
    }
   ],
   "source": [
    "# To Find the squares of numbers from 1 to 10\n",
    "l=[1,2,3,4,5,6,7,8,9,10]\n",
    "list(map(lambda x:x**2,l))"
   ]
  },
  {
   "cell_type": "code",
   "execution_count": 5,
   "id": "13fd2f0b-98b1-4113-9db9-1306a878e27c",
   "metadata": {},
   "outputs": [
    {
     "data": {
      "text/plain": [
       "[1, 8, 27, 64, 125, 216, 343, 512, 729, 1000]"
      ]
     },
     "execution_count": 5,
     "metadata": {},
     "output_type": "execute_result"
    }
   ],
   "source": [
    "# to find the cube root of numbers from 1 to 10\n",
    "list(map(lambda x:x**3,l))"
   ]
  },
  {
   "cell_type": "code",
   "execution_count": 2,
   "id": "92d8083e-4add-48c2-a2e4-965ff09b9ed4",
   "metadata": {},
   "outputs": [
    {
     "name": "stdin",
     "output_type": "stream",
     "text": [
      "enter any number 23\n"
     ]
    },
    {
     "name": "stdout",
     "output_type": "stream",
     "text": [
      "odd no\n"
     ]
    }
   ],
   "source": [
    "#to check whether the given number is even\n",
    "number=int(input(\"enter any number\"))\n",
    "if number%2==0:\n",
    "    print(\"even no\")\n",
    "else:\n",
    "    print(\"odd no\")\n"
   ]
  },
  {
   "cell_type": "code",
   "execution_count": 5,
   "id": "29892938-eb50-4adf-8ca6-e8398215301f",
   "metadata": {},
   "outputs": [
    {
     "name": "stdout",
     "output_type": "stream",
     "text": [
      "[('orange', 80), ('mango', 99), ('grapes', 1000)]\n"
     ]
    }
   ],
   "source": [
    "# Sort a list of tuples having fruit names and their quantity.\n",
    "l=[(\"mango\",99),(\"orange\",80), (\"grapes\", 1000)]\n",
    "l.sort(key=lambda x:x[1])\n",
    "print(l)"
   ]
  },
  {
   "cell_type": "code",
   "execution_count": 11,
   "id": "40b7bb41-bdde-4286-a1b3-4048cd3126b5",
   "metadata": {},
   "outputs": [
    {
     "name": "stdin",
     "output_type": "stream",
     "text": [
      "enter any string welcome you all\n"
     ]
    },
    {
     "name": "stdout",
     "output_type": "stream",
     "text": [
      "start with an alphabet\n"
     ]
    }
   ],
   "source": [
    "# Check if the string starts with a particular letter\n",
    "string=(input(\"enter any string\"))\n",
    "string.isalpha()\n",
    "print(\"start with an alphabet\")\n",
    "    "
   ]
  },
  {
   "cell_type": "code",
   "execution_count": 12,
   "id": "41a855ed-3fcc-4642-8d7f-47bd87685aad",
   "metadata": {},
   "outputs": [
    {
     "name": "stdin",
     "output_type": "stream",
     "text": [
      "enter any string 23455\n"
     ]
    },
    {
     "name": "stdout",
     "output_type": "stream",
     "text": [
      "start with numeric\n"
     ]
    }
   ],
   "source": [
    "#Check if the string is numeric\n",
    "string=(input(\"enter any string\"))\n",
    "string.isdigit()\n",
    "print(\"start with numeric\")\n"
   ]
  },
  {
   "cell_type": "markdown",
   "id": "6562406d-b3db-432c-9656-6daa7bdf772d",
   "metadata": {},
   "source": [
    "# Qn 1"
   ]
  },
  {
   "cell_type": "code",
   "execution_count": null,
   "id": "32447b3d-f9d1-4df7-8af1-659c42a65eb0",
   "metadata": {},
   "outputs": [],
   "source": [
    "password=input(\"enter the password\")\n",
    "if len(password)==10:\n",
    "    break\n",
    "elif password.isupper()\n",
    "    \n",
    "\n"
   ]
  },
  {
   "cell_type": "code",
   "execution_count": null,
   "id": "43593a73-6842-4772-a58d-cfdf2a9d9c3e",
   "metadata": {},
   "outputs": [],
   "source": []
  }
 ],
 "metadata": {
  "kernelspec": {
   "display_name": "Python 3 (ipykernel)",
   "language": "python",
   "name": "python3"
  },
  "language_info": {
   "codemirror_mode": {
    "name": "ipython",
    "version": 3
   },
   "file_extension": ".py",
   "mimetype": "text/x-python",
   "name": "python",
   "nbconvert_exporter": "python",
   "pygments_lexer": "ipython3",
   "version": "3.10.8"
  }
 },
 "nbformat": 4,
 "nbformat_minor": 5
}
